{
  "nbformat": 4,
  "nbformat_minor": 0,
  "metadata": {
    "colab": {
      "provenance": [],
      "include_colab_link": true
    },
    "kernelspec": {
      "name": "python3",
      "display_name": "Python 3"
    },
    "language_info": {
      "name": "python"
    }
  },
  "cells": [
    {
      "cell_type": "markdown",
      "metadata": {
        "id": "view-in-github",
        "colab_type": "text"
      },
      "source": [
        "<a href=\"https://colab.research.google.com/github/triishita/AIOT_OpenVino/blob/main/hello_world_openvino.ipynb\" target=\"_parent\"><img src=\"https://colab.research.google.com/assets/colab-badge.svg\" alt=\"Open In Colab\"/></a>"
      ]
    },
    {
      "cell_type": "code",
      "execution_count": null,
      "metadata": {
        "colab": {
          "base_uri": "https://localhost:8080/"
        },
        "id": "t-y9hSCWtqeU",
        "outputId": "401344cb-1cf4-44c4-cf37-759252ac3821"
      },
      "outputs": [
        {
          "output_type": "stream",
          "name": "stdout",
          "text": [
            "\u001b[2K     \u001b[90m━━━━━━━━━━━━━━━━━━━━━━━━━━━━━━━━━━━━━━━━\u001b[0m \u001b[32m38.3/38.3 MB\u001b[0m \u001b[31m31.7 MB/s\u001b[0m eta \u001b[36m0:00:00\u001b[0m\n",
            "\u001b[?25h"
          ]
        }
      ],
      "source": [
        "# Install openvino package\n",
        "# With help of pip\n",
        "%pip install -q openvino"
      ]
    },
    {
      "cell_type": "code",
      "source": [
        "# Import openvino, check for its version and available plug-ins\n",
        "import openvino as ov\n",
        "print(ov.__version__)\n",
        "core = ov.Core()\n",
        "core"
      ],
      "metadata": {
        "colab": {
          "base_uri": "https://localhost:8080/"
        },
        "id": "ycvTOG-Ot4FO",
        "outputId": "3ec6298f-bb41-46c4-a9b9-0c7bb56fc7f5"
      },
      "execution_count": null,
      "outputs": [
        {
          "output_type": "stream",
          "name": "stdout",
          "text": [
            "2023.3.0-13775-ceeafaf64f3-releases/2023/3\n"
          ]
        },
        {
          "output_type": "execute_result",
          "data": {
            "text/plain": [
              "<Core: available plugins[CPU]>"
            ]
          },
          "metadata": {},
          "execution_count": 5
        }
      ]
    },
    {
      "cell_type": "code",
      "source": [
        "# Get the xml and bin file from Openvino toolkit storage\n",
        "\n",
        "# Download Link : https://storage.openvinotoolkit.org/repositories/openvino_notebooks/models/mobelinet-v3-tf/FP32/"
      ],
      "metadata": {
        "id": "t8Gwt-m5-bFi"
      },
      "execution_count": null,
      "outputs": []
    },
    {
      "cell_type": "code",
      "source": [
        "# copy link of xml and bin file and download it\n",
        "# put '!' symbol for linux command\n",
        "!wget https://storage.openvinotoolkit.org/repositories/openvino_notebooks/models/mobelinet-v3-tf/FP32/v3-small_224_1.0_float.bin"
      ],
      "metadata": {
        "colab": {
          "base_uri": "https://localhost:8080/"
        },
        "id": "e6TppUVfbX-i",
        "outputId": "76696843-7efb-4b95-f85a-7fefa024ffb3"
      },
      "execution_count": null,
      "outputs": [
        {
          "output_type": "stream",
          "name": "stdout",
          "text": [
            "--2024-03-06 06:25:52--  https://storage.openvinotoolkit.org/repositories/openvino_notebooks/models/mobelinet-v3-tf/FP32/v3-small_224_1.0_float.bin\n",
            "Resolving storage.openvinotoolkit.org (storage.openvinotoolkit.org)... 65.8.248.128, 65.8.248.36, 65.8.248.100, ...\n",
            "Connecting to storage.openvinotoolkit.org (storage.openvinotoolkit.org)|65.8.248.128|:443... connected.\n",
            "HTTP request sent, awaiting response... 200 OK\n",
            "Length: 5075724 (4.8M) [application/octet-stream]\n",
            "Saving to: ‘v3-small_224_1.0_float.bin’\n",
            "\n",
            "v3-small_224_1.0_fl 100%[===================>]   4.84M  7.06MB/s    in 0.7s    \n",
            "\n",
            "2024-03-06 06:25:54 (7.06 MB/s) - ‘v3-small_224_1.0_float.bin’ saved [5075724/5075724]\n",
            "\n"
          ]
        }
      ]
    },
    {
      "cell_type": "code",
      "source": [
        "!wget https://storage.openvinotoolkit.org/repositories/openvino_notebooks/models/mobelinet-v3-tf/FP32/v3-small_224_1.0_float.xml"
      ],
      "metadata": {
        "colab": {
          "base_uri": "https://localhost:8080/"
        },
        "id": "Qhu7t64Yb0m7",
        "outputId": "2253f228-ef1f-4198-c899-a4cb50082b05"
      },
      "execution_count": null,
      "outputs": [
        {
          "output_type": "stream",
          "name": "stdout",
          "text": [
            "--2024-03-06 06:26:14--  https://storage.openvinotoolkit.org/repositories/openvino_notebooks/models/mobelinet-v3-tf/FP32/v3-small_224_1.0_float.xml\n",
            "Resolving storage.openvinotoolkit.org (storage.openvinotoolkit.org)... 65.8.248.128, 65.8.248.36, 65.8.248.100, ...\n",
            "Connecting to storage.openvinotoolkit.org (storage.openvinotoolkit.org)|65.8.248.128|:443... connected.\n",
            "HTTP request sent, awaiting response... 200 OK\n",
            "Length: 300608 (294K) [application/xml]\n",
            "Saving to: ‘v3-small_224_1.0_float.xml’\n",
            "\n",
            "v3-small_224_1.0_fl 100%[===================>] 293.56K   806KB/s    in 0.4s    \n",
            "\n",
            "2024-03-06 06:26:15 (806 KB/s) - ‘v3-small_224_1.0_float.xml’ saved [300608/300608]\n",
            "\n"
          ]
        }
      ]
    },
    {
      "cell_type": "code",
      "source": [
        "# Load the model\n",
        "model = core.read_model('/content/v3-small_224_1.0_float.xml') # model name is xml file\n",
        "# we copy xml file path in the above step\n",
        "compiled_model = core.compile_model(model)\n",
        "compiled_model"
      ],
      "metadata": {
        "id": "T5CRSTBs-xqQ",
        "colab": {
          "base_uri": "https://localhost:8080/"
        },
        "outputId": "8f455248-029d-44f9-bf22-c2171409cc47"
      },
      "execution_count": null,
      "outputs": [
        {
          "output_type": "execute_result",
          "data": {
            "text/plain": [
              "<CompiledModel:\n",
              "inputs[\n",
              "<ConstOutput: names[input:0] shape[1,224,224,3] type: f32>\n",
              "]\n",
              "outputs[\n",
              "<ConstOutput: names[MobilenetV3/Predictions/Softmax:0] shape[1,1001] type: f32>\n",
              "]>"
            ]
          },
          "metadata": {},
          "execution_count": 10
        }
      ]
    },
    {
      "cell_type": "markdown",
      "source": [
        "# Explanation for above output\n",
        "Output is determined for single image, we have \"shape[1,...\"\n",
        "if we have 1000 image then \"shape[1000,..\" will be there"
      ],
      "metadata": {
        "id": "QEsZHptsd0v8"
      }
    },
    {
      "cell_type": "code",
      "source": [
        "# Compile the model"
      ],
      "metadata": {
        "id": "ve2kVvNDvN4U"
      },
      "execution_count": null,
      "outputs": []
    },
    {
      "cell_type": "code",
      "source": [
        "!wget https://m.media-amazon.com/images/I/81Pp70CsSNL.jpg -O demo.jpg # copy image link here\n",
        "# image file gets saved as \"demo.jpg\" and we can view from the sidebar"
      ],
      "metadata": {
        "colab": {
          "base_uri": "https://localhost:8080/"
        },
        "id": "Ohr-EB6BfazB",
        "outputId": "641cf187-a8d3-4a3d-cc39-c3577c311aa5"
      },
      "execution_count": null,
      "outputs": [
        {
          "output_type": "stream",
          "name": "stdout",
          "text": [
            "--2024-03-06 06:54:27--  https://m.media-amazon.com/images/I/81Pp70CsSNL.jpg\n",
            "Resolving m.media-amazon.com (m.media-amazon.com)... 23.222.12.48, 23.222.12.9, 23.222.12.17, ...\n",
            "Connecting to m.media-amazon.com (m.media-amazon.com)|23.222.12.48|:443... connected.\n",
            "HTTP request sent, awaiting response... 200 OK\n",
            "Length: 461502 (451K) [image/jpeg]\n",
            "Saving to: ‘demo.jpg’\n",
            "\n",
            "demo.jpg            100%[===================>] 450.69K  --.-KB/s    in 0.06s   \n",
            "\n",
            "2024-03-06 06:54:27 (6.83 MB/s) - ‘demo.jpg’ saved [461502/461502]\n",
            "\n"
          ]
        }
      ]
    },
    {
      "cell_type": "code",
      "source": [
        "# Load the image and display\n",
        "# DO preprocessing like resize and expand dimensions\n",
        "# size of image is expected to be [1,224,224,3]\n",
        "import cv2\n",
        "import numpy as np\n",
        "img = cv2.imread('demo.jpg')\n",
        "img = cv2.resize(img,(224,224))\n",
        "img = np.expand_dims(img,0) # we add 0 for the rows and here we expand dimensions\n",
        "img.shape\n",
        "# the above steps are done to match the results given in compiled_model output above"
      ],
      "metadata": {
        "id": "KOR_l795-7xV",
        "colab": {
          "base_uri": "https://localhost:8080/"
        },
        "outputId": "46239104-eb10-4de8-913f-9bc8888b872f"
      },
      "execution_count": null,
      "outputs": [
        {
          "output_type": "execute_result",
          "data": {
            "text/plain": [
              "(1, 224, 224, 3)"
            ]
          },
          "metadata": {},
          "execution_count": 22
        }
      ]
    },
    {
      "cell_type": "code",
      "source": [
        "# Infer the output\n",
        "res_infer = compiled_model([img])[compiled_model.output(0)] #mentioning image([(1, 224, 224, 3)]) and output size(which is 0)\n",
        "res_infer\n",
        "# we get the probability of the output below"
      ],
      "metadata": {
        "id": "WVKcHig5_GAp",
        "colab": {
          "base_uri": "https://localhost:8080/"
        },
        "outputId": "3744e67f-7a4f-418e-b864-a5b314d134f8"
      },
      "execution_count": null,
      "outputs": [
        {
          "output_type": "execute_result",
          "data": {
            "text/plain": [
              "array([[2.1917835e-05, 1.4297424e-05, 3.2977394e-05, ..., 3.2727941e-05,\n",
              "        4.6764130e-06, 9.7997763e-06]], dtype=float32)"
            ]
          },
          "metadata": {},
          "execution_count": 24
        }
      ]
    },
    {
      "cell_type": "code",
      "source": [
        "# Continuing the above cell code\n",
        "res_infer = compiled_model([img])[compiled_model.output(0)]\n",
        "res_index = np.argmax(res_infer)\n",
        "res_index\n",
        "# refer to https://gist.github.com/yrevar/942d3a0ac09ec9e5eb3a for dataset"
      ],
      "metadata": {
        "colab": {
          "base_uri": "https://localhost:8080/"
        },
        "id": "Vqn96aFLlJkV",
        "outputId": "a189e314-4984-4c65-ffee-c1a2e4c5473b"
      },
      "execution_count": null,
      "outputs": [
        {
          "output_type": "execute_result",
          "data": {
            "text/plain": [
              "410"
            ]
          },
          "metadata": {},
          "execution_count": 26
        }
      ]
    },
    {
      "cell_type": "code",
      "source": [
        "# Take the labels file and check the label name\n",
        "# Download link : https://storage.openvinotoolkit.org/repositories/openvino_notebooks/data/data/datasets/imagenet/imagenet_2012.txt"
      ],
      "metadata": {
        "id": "Q8evEk_B_KCa"
      },
      "execution_count": null,
      "outputs": []
    },
    {
      "cell_type": "code",
      "source": [
        "!wget https://storage.openvinotoolkit.org/repositories/openvino_notebooks/data/data/datasets/imagenet/imagenet_2012.txt"
      ],
      "metadata": {
        "id": "OtMx1IkelsBo",
        "colab": {
          "base_uri": "https://localhost:8080/"
        },
        "outputId": "14131aff-6556-42c8-b22b-607ded8b3fa3"
      },
      "execution_count": null,
      "outputs": [
        {
          "output_type": "stream",
          "name": "stdout",
          "text": [
            "--2024-03-06 07:09:58--  https://storage.openvinotoolkit.org/repositories/openvino_notebooks/data/data/datasets/imagenet/imagenet_2012.txt\n",
            "Resolving storage.openvinotoolkit.org (storage.openvinotoolkit.org)... 65.8.248.100, 65.8.248.128, 65.8.248.15, ...\n",
            "Connecting to storage.openvinotoolkit.org (storage.openvinotoolkit.org)|65.8.248.100|:443... connected.\n",
            "HTTP request sent, awaiting response... 200 OK\n",
            "Length: 31675 (31K) [text/plain]\n",
            "Saving to: ‘imagenet_2012.txt.1’\n",
            "\n",
            "imagenet_2012.txt.1 100%[===================>]  30.93K  --.-KB/s    in 0.09s   \n",
            "\n",
            "2024-03-06 07:09:58 (331 KB/s) - ‘imagenet_2012.txt.1’ saved [31675/31675]\n",
            "\n"
          ]
        }
      ]
    },
    {
      "cell_type": "code",
      "source": [
        "op = open('/content/imagenet_2012.txt').readlines()\n",
        "op[res_index-1]"
      ],
      "metadata": {
        "colab": {
          "base_uri": "https://localhost:8080/",
          "height": 36
        },
        "id": "AGS6QDCymQ8R",
        "outputId": "3fadb960-14d8-40cb-8f59-9fcdfffa66c2"
      },
      "execution_count": null,
      "outputs": [
        {
          "output_type": "execute_result",
          "data": {
            "text/plain": [
              "'n02708093 analog clock\\n'"
            ],
            "application/vnd.google.colaboratory.intrinsic+json": {
              "type": "string"
            }
          },
          "metadata": {},
          "execution_count": 30
        }
      ]
    }
  ]
}